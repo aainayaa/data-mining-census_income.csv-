{
  "nbformat": 4,
  "nbformat_minor": 0,
  "metadata": {
    "colab": {
      "provenance": []
    },
    "kernelspec": {
      "name": "python3",
      "display_name": "Python 3"
    },
    "language_info": {
      "name": "python"
    }
  },
  "cells": [
    {
      "cell_type": "code",
      "execution_count": 36,
      "metadata": {
        "id": "UhI4wZX3BEKm"
      },
      "outputs": [],
      "source": [
        "import numpy as np\n",
        "import matplotlib.pyplot as plt\n",
        "import pandas as pd"
      ]
    },
    {
      "cell_type": "code",
      "source": [
        "dataset = pd.read_csv('CENSUS_INCOME.csv')\n",
        "X = dataset.iloc[:, :-1].values\n",
        "y = dataset.iloc[:, -1].values"
      ],
      "metadata": {
        "id": "66pAdI0kBa4Q"
      },
      "execution_count": 37,
      "outputs": []
    },
    {
      "cell_type": "code",
      "source": [
        "from sklearn.impute import SimpleImputer\n",
        "imputer = SimpleImputer(missing_values=np.nan, strategy='most_frequent')\n",
        "X[:, 6:7] = imputer.fit_transform(X[:, 6:7])\n",
        "X_train, X_test, y_train, y_test  = train_test_split(X,y, test_size = 0.2, random_state=0)"
      ],
      "metadata": {
        "id": "fdi2gq6GB1uQ"
      },
      "execution_count": 44,
      "outputs": []
    },
    {
      "cell_type": "code",
      "source": [
        "print(X)"
      ],
      "metadata": {
        "colab": {
          "base_uri": "https://localhost:8080/"
        },
        "id": "cjWnUSbpCRvx",
        "outputId": "dce8e39e-cf5d-4691-b3b1-5879beab8592"
      },
      "execution_count": 45,
      "outputs": [
        {
          "output_type": "stream",
          "name": "stdout",
          "text": [
            "[[39 ' State-gov' 77516 ... 0 40 ' United-States']\n",
            " [50 ' Self-emp-not-inc' 83311 ... 0 13 ' United-States']\n",
            " [38 ' Private' 215646 ... 0 40 ' United-States']\n",
            " ...\n",
            " [58 ' Private' 151910 ... 0 40 ' United-States']\n",
            " [22 ' Private' 201490 ... 0 20 ' United-States']\n",
            " [52 ' Self-emp-inc' 287927 ... 0 40 ' United-States']]\n"
          ]
        }
      ]
    },
    {
      "cell_type": "code",
      "source": [
        "print(y)"
      ],
      "metadata": {
        "colab": {
          "base_uri": "https://localhost:8080/"
        },
        "id": "v8pPhCEDCVwH",
        "outputId": "0e2cef32-e2df-4b8b-e70d-68c95ea5fb8f"
      },
      "execution_count": 46,
      "outputs": [
        {
          "output_type": "stream",
          "name": "stdout",
          "text": [
            "[' <=50K' ' <=50K' ' <=50K' ... ' <=50K' ' <=50K' ' >50K']\n"
          ]
        }
      ]
    },
    {
      "cell_type": "code",
      "source": [
        "from sklearn.impute import SimpleImputer\n",
        "imputer = SimpleImputer(missing_values=np.nan, strategy='most_frequent')\n",
        "X[:, 6:7] = imputer.fit_transform(X[:, 6:7])"
      ],
      "metadata": {
        "id": "qi8X-J3sCbKs"
      },
      "execution_count": 47,
      "outputs": []
    },
    {
      "cell_type": "code",
      "source": [
        "print(X)"
      ],
      "metadata": {
        "colab": {
          "base_uri": "https://localhost:8080/"
        },
        "id": "fl1k91qyFCnz",
        "outputId": "e7ecd348-55a1-4ae4-cf51-0adfe1cbcd32"
      },
      "execution_count": 48,
      "outputs": [
        {
          "output_type": "stream",
          "name": "stdout",
          "text": [
            "[[39 ' State-gov' 77516 ... 0 40 ' United-States']\n",
            " [50 ' Self-emp-not-inc' 83311 ... 0 13 ' United-States']\n",
            " [38 ' Private' 215646 ... 0 40 ' United-States']\n",
            " ...\n",
            " [58 ' Private' 151910 ... 0 40 ' United-States']\n",
            " [22 ' Private' 201490 ... 0 20 ' United-States']\n",
            " [52 ' Self-emp-inc' 287927 ... 0 40 ' United-States']]\n"
          ]
        }
      ]
    },
    {
      "cell_type": "code",
      "source": [
        "from sklearn.compose import ColumnTransformer\n",
        "from sklearn.preprocessing import OneHotEncoder, LabelEncoder, StandardScaler\n",
        "ct = ColumnTransformer(transformers=[('encoder', OneHotEncoder(sparse_output=False), [1, 3, 5, 6, 7, 8, 9, 10])],\n",
        "                       remainder='passthrough')\n",
        "X = np.array(X)"
      ],
      "metadata": {
        "id": "Cx5TXMXSFZpw"
      },
      "execution_count": 50,
      "outputs": []
    },
    {
      "cell_type": "code",
      "source": [
        "X = ct.fit_transform(X)"
      ],
      "metadata": {
        "id": "4SNL4b9sR3_9"
      },
      "execution_count": 52,
      "outputs": []
    },
    {
      "cell_type": "code",
      "source": [
        "print(X)"
      ],
      "metadata": {
        "colab": {
          "base_uri": "https://localhost:8080/"
        },
        "id": "m2DjrhIcF0Of",
        "outputId": "74f4b017-2137-4689-a946-177228326d7f"
      },
      "execution_count": 54,
      "outputs": [
        {
          "output_type": "stream",
          "name": "stdout",
          "text": [
            "[[0.0 0.0 0.0 ... 0 40 ' United-States']\n",
            " [0.0 0.0 0.0 ... 0 13 ' United-States']\n",
            " [0.0 0.0 0.0 ... 0 40 ' United-States']\n",
            " ...\n",
            " [0.0 0.0 0.0 ... 0 40 ' United-States']\n",
            " [0.0 0.0 0.0 ... 0 20 ' United-States']\n",
            " [0.0 0.0 0.0 ... 0 40 ' United-States']]\n"
          ]
        }
      ]
    },
    {
      "cell_type": "code",
      "source": [
        "from sklearn.preprocessing import OneHotEncoder, LabelEncoder, StandardScaler\n",
        "le = LabelEncoder()\n",
        "y = le.fit_transform(y)"
      ],
      "metadata": {
        "id": "KE8tPm13F4fo"
      },
      "execution_count": 55,
      "outputs": []
    },
    {
      "cell_type": "code",
      "source": [
        "print(y)"
      ],
      "metadata": {
        "colab": {
          "base_uri": "https://localhost:8080/"
        },
        "id": "4WKcJuzeHpMK",
        "outputId": "ae2dfc89-d77f-485e-d53b-5ef3f4082bf4"
      },
      "execution_count": 56,
      "outputs": [
        {
          "output_type": "stream",
          "name": "stdout",
          "text": [
            "[0 0 0 ... 0 0 1]\n"
          ]
        }
      ]
    },
    {
      "cell_type": "code",
      "source": [
        "X = np.asarray(X)\n",
        "y = np.asarray(y)"
      ],
      "metadata": {
        "id": "vRbryP36HsaQ"
      },
      "execution_count": 57,
      "outputs": []
    },
    {
      "cell_type": "code",
      "source": [
        "from sklearn.model_selection import train_test_split\n",
        "X_train, X_test, y_train, y_test  = train_test_split(X,y, test_size = 0.2, random_state=0)"
      ],
      "metadata": {
        "id": "hp0OxVDsNDmR"
      },
      "execution_count": 58,
      "outputs": []
    },
    {
      "cell_type": "code",
      "source": [
        "print(X_train)"
      ],
      "metadata": {
        "colab": {
          "base_uri": "https://localhost:8080/"
        },
        "id": "qLZblARXNYIE",
        "outputId": "8bef9f58-214c-448e-d936-227655362bd3"
      },
      "execution_count": 59,
      "outputs": [
        {
          "output_type": "stream",
          "name": "stdout",
          "text": [
            "[[0.0 0.0 0.0 ... 0 40 ' United-States']\n",
            " [0.0 0.0 0.0 ... 0 54 ' United-States']\n",
            " [0.0 0.0 0.0 ... 0 50 ' United-States']\n",
            " ...\n",
            " [0.0 0.0 0.0 ... 0 40 ' United-States']\n",
            " [0.0 0.0 1.0 ... 0 45 ' United-States']\n",
            " [0.0 0.0 0.0 ... 0 48 ' United-States']]\n"
          ]
        }
      ]
    },
    {
      "cell_type": "code",
      "source": [
        "print(X_test)"
      ],
      "metadata": {
        "colab": {
          "base_uri": "https://localhost:8080/"
        },
        "id": "IPQgtqseNa3J",
        "outputId": "41b3b1e8-d59b-4d80-d87e-7a283a02595d"
      },
      "execution_count": 60,
      "outputs": [
        {
          "output_type": "stream",
          "name": "stdout",
          "text": [
            "[[0.0 0.0 0.0 ... 0 44 ' United-States']\n",
            " [0.0 0.0 0.0 ... 0 40 ' United-States']\n",
            " [0.0 0.0 0.0 ... 0 40 ' United-States']\n",
            " ...\n",
            " [0.0 0.0 0.0 ... 0 60 ' United-States']\n",
            " [0.0 0.0 0.0 ... 0 40 ' United-States']\n",
            " [0.0 0.0 0.0 ... 0 50 ' United-States']]\n"
          ]
        }
      ]
    },
    {
      "cell_type": "code",
      "source": [
        "print(y_train)"
      ],
      "metadata": {
        "colab": {
          "base_uri": "https://localhost:8080/"
        },
        "id": "CXQKtedLNdXW",
        "outputId": "334e18ac-3c3d-4701-9383-ddb56ba7cb56"
      },
      "execution_count": 61,
      "outputs": [
        {
          "output_type": "stream",
          "name": "stdout",
          "text": [
            "[0 0 0 ... 0 1 0]\n"
          ]
        }
      ]
    },
    {
      "cell_type": "code",
      "source": [
        "print(y_test)"
      ],
      "metadata": {
        "colab": {
          "base_uri": "https://localhost:8080/"
        },
        "id": "QWunOVIBNfMq",
        "outputId": "31a513c1-7638-4385-e8fd-cac485d55ca0"
      },
      "execution_count": 62,
      "outputs": [
        {
          "output_type": "stream",
          "name": "stdout",
          "text": [
            "[0 0 0 ... 1 0 1]\n"
          ]
        }
      ]
    },
    {
      "cell_type": "code",
      "source": [
        "X_train = np.array(X_train)\n",
        "X_test = np.array(X_test)"
      ],
      "metadata": {
        "id": "RI3gNxK6TZ0T"
      },
      "execution_count": 72,
      "outputs": []
    },
    {
      "cell_type": "code",
      "source": [
        "sc = StandardScaler()"
      ],
      "metadata": {
        "id": "bUWTxGMLSyBV"
      },
      "execution_count": 79,
      "outputs": []
    },
    {
      "cell_type": "code",
      "source": [
        "print(X_train)"
      ],
      "metadata": {
        "colab": {
          "base_uri": "https://localhost:8080/"
        },
        "id": "Opp7ymGiNxGu",
        "outputId": "ac5df65d-4980-42db-cc2a-e98e0f0c827b"
      },
      "execution_count": 82,
      "outputs": [
        {
          "output_type": "stream",
          "name": "stdout",
          "text": [
            "[[0.0 0.0 0.0 ... 0 40 ' United-States']\n",
            " [0.0 0.0 0.0 ... 0 54 ' United-States']\n",
            " [0.0 0.0 0.0 ... 0 50 ' United-States']\n",
            " ...\n",
            " [0.0 0.0 0.0 ... 0 40 ' United-States']\n",
            " [0.0 0.0 1.0 ... 0 45 ' United-States']\n",
            " [0.0 0.0 0.0 ... 0 48 ' United-States']]\n"
          ]
        }
      ]
    },
    {
      "cell_type": "code",
      "source": [
        "print(X_test)"
      ],
      "metadata": {
        "colab": {
          "base_uri": "https://localhost:8080/"
        },
        "id": "1Mx9jRl8NzMw",
        "outputId": "78355684-d267-47b6-b3ae-0b871efad66b"
      },
      "execution_count": 83,
      "outputs": [
        {
          "output_type": "stream",
          "name": "stdout",
          "text": [
            "[[0.0 0.0 0.0 ... 0 44 ' United-States']\n",
            " [0.0 0.0 0.0 ... 0 40 ' United-States']\n",
            " [0.0 0.0 0.0 ... 0 40 ' United-States']\n",
            " ...\n",
            " [0.0 0.0 0.0 ... 0 60 ' United-States']\n",
            " [0.0 0.0 0.0 ... 0 40 ' United-States']\n",
            " [0.0 0.0 0.0 ... 0 50 ' United-States']]\n"
          ]
        }
      ]
    }
  ]
}